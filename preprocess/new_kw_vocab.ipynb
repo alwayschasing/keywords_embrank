{
 "cells": [
  {
   "cell_type": "code",
   "execution_count": 1,
   "metadata": {},
   "outputs": [],
   "source": [
    "def load_vocab(vocab_file):\n",
    "    vocab = dict()\n",
    "    fp = open(vocab_file, \"r\", encoding=\"utf-8\")\n",
    "    for idx, line in enumerate(fp):\n",
    "        word = line.rstrip('\\n').split('\\t')[0]\n",
    "        vocab[word] = idx\n",
    "    return vocab\n",
    "\n",
    "def load_word_freq(vocab_file):\n",
    "    vocab = dict()\n",
    "    fp = open(vocab_file, \"r\", encoding=\"utf-8\")\n",
    "    for idx, line in enumerate(fp):\n",
    "        word,freq = line.rstrip('\\n').split('\\t')\n",
    "        vocab[word] = int(freq)\n",
    "    return vocab\n",
    "\n",
    "def generate_kw_vocab(word_freq_file, ori_vocab_file, output_vocab_file):\n",
    "    ori_vocab = load_vocab(ori_vocab_file)\n",
    "    word_freq = load_word_freq(word_freq_file)\n",
    "    \n",
    "    new_vocab = [] \n",
    "    for word in ori_vocab.keys():\n",
    "        if word not in word_freq:\n",
    "            continue\n",
    "        new_vocab.append(word)\n",
    "    \n",
    "    wfp = open(output_vocab_file, \"w\", encoding=\"utf-8\")\n",
    "    for word in new_vocab:\n",
    "        wfp.write(\"%s\\n\" % (word))\n",
    "    wfp.close()"
   ]
  },
  {
   "cell_type": "code",
   "execution_count": 2,
   "metadata": {},
   "outputs": [],
   "source": [
    "ori_vocab = load_vocab(\"preprocess_res/keyword_vocab_final\")\n",
    "word_freq = load_word_freq(\"preprocess_res/word_freq.txt\")"
   ]
  },
  {
   "cell_type": "code",
   "execution_count": 4,
   "metadata": {},
   "outputs": [],
   "source": [
    "def check_new_vocab(ori_vocab,word_freq,freq_limit=0):\n",
    "    new_vocab = []\n",
    "    for word in ori_vocab.keys():\n",
    "        if word not in word_freq:\n",
    "            continue\n",
    "        \n",
    "        if freq_limit > 0 and word_freq[word] < freq_limit:\n",
    "            continue\n",
    "            \n",
    "        new_vocab.append((word,word_freq[word]))\n",
    "    return new_vocab"
   ]
  },
  {
   "cell_type": "code",
   "execution_count": 5,
   "metadata": {},
   "outputs": [],
   "source": [
    "new_vocab = check_new_vocab(ori_vocab, word_freq)"
   ]
  },
  {
   "cell_type": "code",
   "execution_count": 6,
   "metadata": {},
   "outputs": [
    {
     "data": {
      "text/plain": [
       "201393"
      ]
     },
     "execution_count": 6,
     "metadata": {},
     "output_type": "execute_result"
    }
   ],
   "source": [
    "len(new_vocab)"
   ]
  },
  {
   "cell_type": "code",
   "execution_count": 7,
   "metadata": {},
   "outputs": [],
   "source": [
    "sorted_new = sorted(new_vocab, key=lambda x:x[1], reverse=True)"
   ]
  },
  {
   "cell_type": "code",
   "execution_count": 24,
   "metadata": {},
   "outputs": [
    {
     "name": "stdout",
     "output_type": "stream",
     "text": [
      "62750\n",
      "[('电子阅读器', 151), ('吕祖', 151), ('冯满天', 151), ('里坡', 151), ('姜泥', 151), ('购房知识', 151), ('李政', 151), ('压力性尿失禁', 151), ('视星等', 151), ('注册监理工程师', 151), ('痒痒鼠', 151), ('珍珠海', 151), ('陈梦家', 151), ('李舜臣', 151), ('视力矫正', 151), ('付高峰', 151), ('布仁巴雅尔', 151), ('袁亚非', 151), ('双待', 151), ('扦插法', 151)]\n"
     ]
    }
   ],
   "source": [
    "check_vocab = [(k,v) for k,v in sorted_new if v > 150]\n",
    "print(len(check_vocab))\n",
    "print(check_vocab[-20:])"
   ]
  },
  {
   "cell_type": "code",
   "execution_count": null,
   "metadata": {},
   "outputs": [],
   "source": []
  }
 ],
 "metadata": {
  "kernelspec": {
   "display_name": "Python 3",
   "language": "python",
   "name": "python3"
  },
  "language_info": {
   "codemirror_mode": {
    "name": "ipython",
    "version": 3
   },
   "file_extension": ".py",
   "mimetype": "text/x-python",
   "name": "python",
   "nbconvert_exporter": "python",
   "pygments_lexer": "ipython3",
   "version": "3.7.6"
  }
 },
 "nbformat": 4,
 "nbformat_minor": 4
}
